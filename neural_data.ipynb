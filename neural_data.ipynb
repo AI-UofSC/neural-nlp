{
 "cells": [
  {
   "cell_type": "code",
   "execution_count": 2,
   "metadata": {
    "collapsed": true
   },
   "outputs": [],
   "source": [
    "%matplotlib inline\n",
    "\n",
    "import mkgu\n",
    "\n",
    "assy_hvm = mkgu.get_assembly(name=\"HvM\")\n",
    "hvm_it_v6 = assy_hvm.sel(var=\"V6\").sel(region=\"IT\")\n",
    "hvm_it_v6.coords[\"cat_obj\"] = hvm_it_v6.coords[\"category\"] + hvm_it_v6.coords[\"obj\"]\n",
    "hvm_it_v6.load()\n",
    "hvm_it_v6_obj = hvm_it_v6.groupby(\"cat_obj\").mean(dim=\"presentation\").squeeze(\"time_bin\").T"
   ]
  },
  {
   "cell_type": "code",
   "execution_count": 3,
   "metadata": {},
   "outputs": [],
   "source": [
    "assert hvm_it_v6_obj.shape == (64, 168)\n",
    "\n",
    "from mkgu import metrics\n",
    "rdm_hvm = metrics.RDM()\n",
    "bmk_hvm = metrics.Benchmark(rdm_hvm, hvm_it_v6_obj)\n",
    "rdm = bmk_hvm.calculate()\n",
    "\n",
    "assert rdm.shape == (64, 64)"
   ]
  },
  {
   "cell_type": "code",
   "execution_count": 21,
   "metadata": {},
   "outputs": [
    {
     "name": "stdout",
     "output_type": "stream",
     "text": [
      "<xarray.DataArray 'dataset_hvm' (cat_obj: 64, neuroid: 168)>\narray([[ 0.051274,  0.017385,  0.250305, ...,  0.025972, -0.0229  , -0.040082],\n       [ 0.014396, -0.143975,  0.214095, ...,  0.063083, -0.017952, -0.022371],\n       [-0.040543,  0.000644, -0.112829, ...,  0.080895,  0.003534, -0.009964],\n       ..., \n       [ 0.03505 ,  0.009078, -0.098099, ..., -0.030416, -0.081772, -0.185693],\n       [ 0.065006,  0.072046, -0.032077, ..., -0.127431, -0.025176, -0.034318],\n       [ 0.102832,  0.102089,  0.089803, ..., -0.055868, -0.108431, -0.083379]], dtype=float32)\nCoordinates:\n  * neuroid   (neuroid) MultiIndex\n  - arr       (neuroid) object 'M' 'M' 'M' 'M' 'M' 'M' 'M' 'M' 'M' 'M' 'M' ...\n  - y         (neuroid) float64 0.2 0.6 0.2 1.0 0.6 1.0 1.8 1.0 1.8 1.4 1.8 ...\n  - col       (neuroid) int64 9 9 8 9 8 8 7 7 5 6 4 8 8 6 7 5 7 7 6 6 5 6 4 ...\n  - row       (neuroid) int64 5 6 5 7 6 7 9 7 9 8 9 8 9 6 8 7 9 7 9 7 9 8 9 ...\n  - animal    (neuroid) object 'Chabo' 'Chabo' 'Chabo' 'Chabo' 'Chabo' ...\n  - x         (neuroid) float64 1.8 1.8 1.4 1.8 1.4 1.4 1.0 1.0 0.2 0.6 -0.2 ...\n    time_bin  object (170, 70)\n  * cat_obj   (cat_obj) object 'AnimalsELEPHANT_M' 'AnimalsGORILLA' ...\n"
     ]
    }
   ],
   "source": [
    "from matplotlib import pyplot\n",
    "\n",
    "print(hvm_it_v6_obj)\n",
    "# pyplot.figure()\n",
    "# pyplot.scatter(range(hvm_it_v6_obj.shape[0]), hvm_it_v6_obj.values)\n",
    "# \n",
    "# pyplot.figure()\n",
    "# obj = hvm_it_v6_obj[1, :].values\n",
    "# pyplot.scatter(range(obj.shape[0]), obj)"
   ]
  },
  {
   "cell_type": "code",
   "execution_count": null,
   "metadata": {},
   "outputs": [],
   "source": []
  }
 ],
 "metadata": {
  "kernelspec": {
   "display_name": "Python 2",
   "language": "python",
   "name": "python2"
  },
  "language_info": {
   "codemirror_mode": {
    "name": "ipython",
    "version": 2
   },
   "file_extension": ".py",
   "mimetype": "text/x-python",
   "name": "python",
   "nbconvert_exporter": "python",
   "pygments_lexer": "ipython2",
   "version": "2.7.6"
  }
 },
 "nbformat": 4,
 "nbformat_minor": 0
}

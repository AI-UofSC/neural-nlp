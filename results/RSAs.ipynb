{
 "cells": [
  {
   "cell_type": "code",
   "execution_count": 7,
   "metadata": {},
   "outputs": [
    {
     "name": "stdout",
     "output_type": "stream",
     "text": [
      "The autoreload extension is already loaded. To reload it, use:\n  %reload_ext autoreload\n"
     ]
    }
   ],
   "source": [
    "%load_ext autoreload\n",
    "%autoreload 2\n",
    "%matplotlib inline\n",
    "\n",
    "import logging\n",
    "import sys\n",
    "from operator import itemgetter\n",
    "\n",
    "import seaborn\n",
    "from matplotlib import pyplot\n",
    "\n",
    "logging.basicConfig(stream=sys.stdout, level=logging.getLevelName('DEBUG'))\n",
    "\n",
    "def plot_rdm(similarities, title, ax):\n",
    "    labels = map(itemgetter(0), similarities['stimulus'].values)\n",
    "    labels = [label[:20] for label in labels]\n",
    "    seaborn.heatmap(similarities, ax=ax)\n",
    "    ax.set_title(title)\n",
    "    ax.set_xticklabels(labels, rotation=90)\n",
    "    ax.get_yaxis().set_visible(False)\n",
    "\n",
    "def plot_rdms(rdm_titles, axes):\n",
    "    for (rdm, title), ax in zip(rdm_titles, axes):\n",
    "        plot_rdm(rdm, title, ax)\n"
   ]
  },
  {
   "cell_type": "markdown",
   "metadata": {},
   "source": [
    "## Neural Data"
   ]
  },
  {
   "cell_type": "code",
   "execution_count": 4,
   "metadata": {
    "collapsed": true
   },
   "outputs": [
    {
     "name": "stdout",
     "output_type": "stream",
     "text": [
      "DEBUG:neural_nlp.neural_data:Loading file /mnt/c/Users/Martin/workspaces/tenenbaum/neural-nlp/neural_nlp/../ressources/neural_data/Boar_from90to100.mat_r01.csv\n"
     ]
    },
    {
     "name": "stdout",
     "output_type": "stream",
     "text": [
      "DEBUG:neural_nlp.neural_data:Loading file /mnt/c/Users/Martin/workspaces/tenenbaum/neural-nlp/neural_nlp/../ressources/neural_data/Boar_from90to100.mat_r02.csv\n"
     ]
    },
    {
     "name": "stdout",
     "output_type": "stream",
     "text": [
      "DEBUG:neural_nlp.neural_data:Loading file /mnt/c/Users/Martin/workspaces/tenenbaum/neural-nlp/neural_nlp/../ressources/neural_data/Boar_from90to100.mat_r03.csv\n"
     ]
    },
    {
     "name": "stdout",
     "output_type": "stream",
     "text": [
      "DEBUG:neural_nlp.neural_data:Loading file /mnt/c/Users/Martin/workspaces/tenenbaum/neural-nlp/neural_nlp/../ressources/neural_data/Boar_from90to100.mat_r04.csv\n"
     ]
    },
    {
     "name": "stdout",
     "output_type": "stream",
     "text": [
      "DEBUG:neural_nlp.neural_data:Loading file /mnt/c/Users/Martin/workspaces/tenenbaum/neural-nlp/neural_nlp/../ressources/neural_data/Boar_from90to100.mat_r05.csv\n"
     ]
    },
    {
     "name": "stdout",
     "output_type": "stream",
     "text": [
      "DEBUG:neural_nlp.neural_data:Loading file /mnt/c/Users/Martin/workspaces/tenenbaum/neural-nlp/neural_nlp/../ressources/neural_data/Boar_from90to100.mat_r06.csv\n"
     ]
    },
    {
     "name": "stdout",
     "output_type": "stream",
     "text": [
      "DEBUG:neural_nlp.neural_data:Loading file /mnt/c/Users/Martin/workspaces/tenenbaum/neural-nlp/neural_nlp/../ressources/neural_data/Boar_from90to100.mat_r07.csv\n"
     ]
    },
    {
     "name": "stdout",
     "output_type": "stream",
     "text": [
      "DEBUG:neural_nlp.neural_data:Loading file /mnt/c/Users/Martin/workspaces/tenenbaum/neural-nlp/neural_nlp/../ressources/neural_data/Boar_from90to100.mat_r08.csv\n"
     ]
    },
    {
     "name": "stdout",
     "output_type": "stream",
     "text": [
      "DEBUG:neural_nlp.neural_data:Loading file /mnt/c/Users/Martin/workspaces/tenenbaum/neural-nlp/neural_nlp/../ressources/neural_data/Boar_from90to100.mat_r09.csv\n"
     ]
    },
    {
     "name": "stdout",
     "output_type": "stream",
     "text": [
      "DEBUG:neural_nlp.neural_data:Loading file /mnt/c/Users/Martin/workspaces/tenenbaum/neural-nlp/neural_nlp/../ressources/neural_data/Boar_from90to100.mat_r10.csv\n"
     ]
    },
    {
     "name": "stdout",
     "output_type": "stream",
     "text": [
      "DEBUG:neural_nlp.neural_data:Loading file /mnt/c/Users/Martin/workspaces/tenenbaum/neural-nlp/neural_nlp/../ressources/neural_data/Boar_from90to100.mat_r11.csv\n"
     ]
    },
    {
     "name": "stdout",
     "output_type": "stream",
     "text": [
      "DEBUG:neural_nlp.neural_data:Loading file /mnt/c/Users/Martin/workspaces/tenenbaum/neural-nlp/neural_nlp/../ressources/neural_data/Boar_from90to100.mat_r12.csv\n"
     ]
    },
    {
     "name": "stdout",
     "output_type": "stream",
     "text": [
      "DEBUG:neural_nlp.neural_data:Loading file /mnt/c/Users/Martin/workspaces/tenenbaum/neural-nlp/neural_nlp/../ressources/neural_data/Boar_from90to100.mat_r13.csv\n"
     ]
    },
    {
     "name": "stdout",
     "output_type": "stream",
     "text": [
      "DEBUG:neural_nlp.neural_data:Loading file /mnt/c/Users/Martin/workspaces/tenenbaum/neural-nlp/neural_nlp/../ressources/neural_data/Boar_from90to100.mat_r14.csv\n"
     ]
    },
    {
     "name": "stdout",
     "output_type": "stream",
     "text": [
      "DEBUG:neural_nlp.neural_data:Loading file /mnt/c/Users/Martin/workspaces/tenenbaum/neural-nlp/neural_nlp/../ressources/neural_data/Boar_from90to100.mat_r15.csv\n"
     ]
    },
    {
     "name": "stdout",
     "output_type": "stream",
     "text": [
      "DEBUG:neural_nlp.neural_data:Loading file /mnt/c/Users/Martin/workspaces/tenenbaum/neural-nlp/neural_nlp/../ressources/neural_data/Boar_from90to100.mat_r16.csv\n"
     ]
    },
    {
     "name": "stdout",
     "output_type": "stream",
     "text": [
      "DEBUG:neural_nlp.neural_data:Loading file /mnt/c/Users/Martin/workspaces/tenenbaum/neural-nlp/neural_nlp/../ressources/neural_data/Boar_from90to100.mat_r17.csv\n"
     ]
    },
    {
     "name": "stdout",
     "output_type": "stream",
     "text": [
      "DEBUG:neural_nlp.neural_data:Loading file /mnt/c/Users/Martin/workspaces/tenenbaum/neural-nlp/neural_nlp/../ressources/neural_data/Boar_from90to100.mat_r18.csv\n"
     ]
    },
    {
     "name": "stdout",
     "output_type": "stream",
     "text": [
      "DEBUG:neural_nlp.neural_data:Loading file /mnt/c/Users/Martin/workspaces/tenenbaum/neural-nlp/neural_nlp/../ressources/neural_data/Boar_from90to100.mat_r19.csv\n"
     ]
    },
    {
     "name": "stdout",
     "output_type": "stream",
     "text": [
      "DEBUG:neural_nlp.neural_data:Loading file /mnt/c/Users/Martin/workspaces/tenenbaum/neural-nlp/neural_nlp/../ressources/neural_data/Boar_from90to100.mat_r20.csv\n"
     ]
    },
    {
     "name": "stdout",
     "output_type": "stream",
     "text": [
      "DEBUG:neural_nlp.neural_data:Loading file /mnt/c/Users/Martin/workspaces/tenenbaum/neural-nlp/neural_nlp/../ressources/neural_data/Boar_from90to100.mat_r21.csv\n"
     ]
    },
    {
     "name": "stdout",
     "output_type": "stream",
     "text": [
      "DEBUG:neural_nlp.neural_data:Loading file /mnt/c/Users/Martin/workspaces/tenenbaum/neural-nlp/neural_nlp/../ressources/neural_data/Boar_from90to100.mat_r22.csv\n"
     ]
    },
    {
     "name": "stdout",
     "output_type": "stream",
     "text": [
      "DEBUG:neural_nlp.neural_data:Loading file /mnt/c/Users/Martin/workspaces/tenenbaum/neural-nlp/neural_nlp/../ressources/neural_data/Boar_from90to100.mat_r23.csv\n"
     ]
    },
    {
     "name": "stdout",
     "output_type": "stream",
     "text": [
      "DEBUG:neural_nlp.neural_data:Loading file /mnt/c/Users/Martin/workspaces/tenenbaum/neural-nlp/neural_nlp/../ressources/neural_data/Boar_from90to100.mat_r24.csv\n"
     ]
    },
    {
     "name": "stdout",
     "output_type": "stream",
     "text": [
      "DEBUG:neural_nlp.neural_data:Loading file /mnt/c/Users/Martin/workspaces/tenenbaum/neural-nlp/neural_nlp/../ressources/neural_data/Boar_from90to100.mat_r25.csv\n"
     ]
    },
    {
     "name": "stdout",
     "output_type": "stream",
     "text": [
      "DEBUG:neural_nlp.neural_data:Loading file /mnt/c/Users/Martin/workspaces/tenenbaum/neural-nlp/neural_nlp/../ressources/neural_data/Boar_from90to100.mat_r26.csv\n"
     ]
    },
    {
     "name": "stdout",
     "output_type": "stream",
     "text": [
      "DEBUG:neural_nlp.neural_data:Loading file /mnt/c/Users/Martin/workspaces/tenenbaum/neural-nlp/neural_nlp/../ressources/neural_data/Boar_from90to100.mat_r27.csv\n"
     ]
    },
    {
     "name": "stdout",
     "output_type": "stream",
     "text": [
      "DEBUG:neural_nlp.neural_data:Loading file /mnt/c/Users/Martin/workspaces/tenenbaum/neural-nlp/neural_nlp/../ressources/neural_data/Boar_from90to100.mat_r28.csv\n"
     ]
    },
    {
     "name": "stdout",
     "output_type": "stream",
     "text": [
      "DEBUG:neural_nlp.neural_data:Loading file /mnt/c/Users/Martin/workspaces/tenenbaum/neural-nlp/neural_nlp/../ressources/neural_data/Boar_from90to100.mat_r29.csv\n"
     ]
    },
    {
     "name": "stdout",
     "output_type": "stream",
     "text": [
      "DEBUG:neural_nlp.neural_data:Loading file /mnt/c/Users/Martin/workspaces/tenenbaum/neural-nlp/neural_nlp/../ressources/neural_data/Boar_from90to100.mat_r30.csv\n"
     ]
    },
    {
     "name": "stdout",
     "output_type": "stream",
     "text": [
      "DEBUG:neural_nlp.neural_data:Loading file /mnt/c/Users/Martin/workspaces/tenenbaum/neural-nlp/neural_nlp/../ressources/neural_data/Boar_from90to100.mat_r31.csv\n"
     ]
    },
    {
     "name": "stdout",
     "output_type": "stream",
     "text": [
      "DEBUG:neural_nlp.neural_data:Loading file /mnt/c/Users/Martin/workspaces/tenenbaum/neural-nlp/neural_nlp/../ressources/neural_data/Boar_from90to100.mat_r32.csv\n"
     ]
    },
    {
     "name": "stdout",
     "output_type": "stream",
     "text": [
      "DEBUG:neural_nlp.neural_data:Loading file /mnt/c/Users/Martin/workspaces/tenenbaum/neural-nlp/neural_nlp/../ressources/neural_data/Boar_from90to100.mat_r33.csv\n"
     ]
    },
    {
     "name": "stdout",
     "output_type": "stream",
     "text": [
      "DEBUG:neural_nlp.neural_data:Loading file /mnt/c/Users/Martin/workspaces/tenenbaum/neural-nlp/neural_nlp/../ressources/neural_data/Boar_from90to100.mat_r34.csv\n"
     ]
    },
    {
     "name": "stdout",
     "output_type": "stream",
     "text": [
      "DEBUG:neural_nlp.neural_data:Loading file /mnt/c/Users/Martin/workspaces/tenenbaum/neural-nlp/neural_nlp/../ressources/neural_data/Boar_from90to100.mat_r35.csv\n"
     ]
    },
    {
     "name": "stdout",
     "output_type": "stream",
     "text": [
      "DEBUG:neural_nlp.neural_data:Loading file /mnt/c/Users/Martin/workspaces/tenenbaum/neural-nlp/neural_nlp/../ressources/neural_data/Boar_from90to100.mat_r36.csv\n"
     ]
    },
    {
     "name": "stdout",
     "output_type": "stream",
     "text": [
      "DEBUG:neural_nlp.neural_data:Loading file /mnt/c/Users/Martin/workspaces/tenenbaum/neural-nlp/neural_nlp/../ressources/neural_data/Boar_from90to100.mat_r37.csv\n"
     ]
    },
    {
     "name": "stdout",
     "output_type": "stream",
     "text": [
      "DEBUG:neural_nlp.neural_data:Loading file /mnt/c/Users/Martin/workspaces/tenenbaum/neural-nlp/neural_nlp/../ressources/neural_data/Boar_from90to100.mat_r38.csv\n"
     ]
    },
    {
     "name": "stdout",
     "output_type": "stream",
     "text": [
      "DEBUG:neural_nlp.neural_data:Loading file /mnt/c/Users/Martin/workspaces/tenenbaum/neural-nlp/neural_nlp/../ressources/neural_data/Boar_from90to100.mat_r39.csv\n"
     ]
    },
    {
     "name": "stdout",
     "output_type": "stream",
     "text": [
      "DEBUG:neural_nlp.neural_data:Loading file /mnt/c/Users/Martin/workspaces/tenenbaum/neural-nlp/neural_nlp/../ressources/neural_data/Boar_from90to100.mat_r40.csv\n"
     ]
    },
    {
     "name": "stdout",
     "output_type": "stream",
     "text": [
      "DEBUG:neural_nlp.neural_data:Loading file /mnt/c/Users/Martin/workspaces/tenenbaum/neural-nlp/neural_nlp/../ressources/neural_data/Boar_from90to100.mat_r41.csv\n"
     ]
    },
    {
     "name": "stdout",
     "output_type": "stream",
     "text": [
      "DEBUG:neural_nlp.neural_data:Loading file /mnt/c/Users/Martin/workspaces/tenenbaum/neural-nlp/neural_nlp/../ressources/neural_data/Boar_from90to100.mat_r42.csv\n"
     ]
    },
    {
     "name": "stdout",
     "output_type": "stream",
     "text": [
      "DEBUG:neural_nlp.neural_data:Loading file /mnt/c/Users/Martin/workspaces/tenenbaum/neural-nlp/neural_nlp/../ressources/neural_data/Boar_from90to100.mat_r43.csv\n"
     ]
    },
    {
     "name": "stdout",
     "output_type": "stream",
     "text": [
      "DEBUG:neural_nlp.neural_data:Loading file /mnt/c/Users/Martin/workspaces/tenenbaum/neural-nlp/neural_nlp/../ressources/neural_data/Boar_from90to100.mat_r44.csv\n"
     ]
    },
    {
     "name": "stdout",
     "output_type": "stream",
     "text": [
      "DEBUG:neural_nlp.neural_data:Loading meta /mnt/c/Users/Martin/workspaces/tenenbaum/neural-nlp/neural_nlp/../ressources/neural_data/meta/story1_Boar_sentencesByTR.csv\n"
     ]
    },
    {
     "name": "stdout",
     "output_type": "stream",
     "text": [
      "DEBUG:neural_nlp.neural_data:Loading meta /mnt/c/Users/Martin/workspaces/tenenbaum/neural-nlp/neural_nlp/../ressources/neural_data/meta/story1_Boar_sentencesByTR.csv\n"
     ]
    }
   ],
   "source": [
    "from neural_nlp.neural_data import load_rdm_sentences\n",
    "from neural_nlp.stimuli import load_stimuli\n",
    "\n",
    "neural_data = load_rdm_sentences()\n",
    "del neural_data['timepoint']  # this otherwise messes up the MultiIndex (level_0)\n",
    "neural_data = neural_data.mean(dim='subject')\n",
    "\n",
    "sentences = load_stimuli('naturalistic-neural-reduced.Boar')\n",
    "boar_data = neural_data.sel(stimulus=sentences)\n"
   ]
  },
  {
   "cell_type": "code",
   "execution_count": 10,
   "metadata": {
    "collapsed": true
   },
   "outputs": [],
   "source": [
    "%matplotlib inline\n",
    "import numpy as np\n",
    "\n",
    "num_rows_cols = int(np.ceil(np.sqrt(len(boar_data['region']))))\n",
    "fig, axes = pyplot.subplots(num_rows_cols, num_rows_cols)\n",
    "\n",
    "generator = ((boar_data.sel(region=region), region) for region in boar_data['region'])\n",
    "plot_rdms(generator, axes.flatten())\n",
    "\n",
    "pyplot.savefig('results/RDM-neural.svg')\n",
    "pyplot.savefig('results/RDM-neural.png')\n",
    "fig.show()"
   ]
  },
  {
   "cell_type": "markdown",
   "metadata": {},
   "source": [
    "## Models"
   ]
  },
  {
   "cell_type": "code",
   "execution_count": 15,
   "metadata": {},
   "outputs": [
    {
     "name": "stdout",
     "output_type": "stream",
     "text": [
      "env: MKL_THREADING_LAYER=GNU\n"
     ]
    }
   ],
   "source": [
    "% env MKL_THREADING_LAYER=GNU\n",
    "models = ['skip-thoughts', 'lm_1b']#, 'rntn']\n"
   ]
  },
  {
   "cell_type": "code",
   "execution_count": 16,
   "metadata": {},
   "outputs": [
    {
     "name": "stdout",
     "output_type": "stream",
     "text": [
      "DEBUG:neural_nlp.utils.store:Loading from storage: /mnt/c/Users/Martin/workspaces/tenenbaum/neural-nlp/neural_nlp/../output/neural_nlp.models.get_activations/model_name=skip-thoughts,stimulus_set_name=naturalistic-neural-reduced.Boar.pkl\n"
     ]
    },
    {
     "name": "stdout",
     "output_type": "stream",
     "text": [
      "DEBUG:neural_nlp.utils.store:Loading from storage: /mnt/c/Users/Martin/workspaces/tenenbaum/neural-nlp/neural_nlp/../output/neural_nlp.models.get_activations/model_name=lm_1b,stimulus_set_name=naturalistic-neural-reduced.Boar.pkl\n"
     ]
    },
    {
     "name": "stderr",
     "output_type": "stream",
     "text": [
      "/home/martin/miniconda3/envs/neural-nlp/lib/python3.6/site-packages/matplotlib/figure.py:418: UserWarning: matplotlib is currently using a non-GUI backend, so cannot show the figure\n  \"matplotlib is currently using a non-GUI backend, \"\n"
     ]
    },
    {
     "data": {
      "image/png": "[encoded data removed]",
      "text/plain": [
       "<matplotlib.figure.Figure at 0x7f3b5e4aa358>"
      ]
     },
     "metadata": {},
     "output_type": "display_data"
    }
   ],
   "source": [
    "% matplotlib inline\n",
    "\n",
    "from matplotlib import pyplot\n",
    "\n",
    "from neural_nlp.models import get_activations\n",
    "from neural_nlp.stimuli import load_stimuli\n",
    "from mkgu.metrics.rdm import RDM\n",
    "\n",
    "rdm = RDM()\n",
    "\n",
    "def plot_rdms(dataset_name):\n",
    "    fig, axes = pyplot.subplots(1, len(models), figsize=(12, 4))\n",
    "\n",
    "    for model_name, ax in zip(models, axes):\n",
    "        encodings = get_activations(model_name, dataset_name)  # feed in sentences in context, i.e. with continuity\n",
    "        similarities = rdm(encodings)\n",
    "        plot_rdm(similarities, model_name, ax)\n",
    "    pyplot.savefig('results/RDM-{}.svg'.format(dataset_name))\n",
    "    pyplot.savefig('results/RDM-{}.png'.format(dataset_name))\n",
    "    fig.show()\n",
    "\n",
    "plot_rdms('naturalistic-neural-reduced.Boar')\n"
   ]
  },
  {
   "cell_type": "code",
   "execution_count": null,
   "metadata": {},
   "outputs": [],
   "source": []
  }
 ],
 "metadata": {
  "kernelspec": {
   "display_name": "Python 2",
   "language": "python",
   "name": "python2"
  },
  "language_info": {
   "codemirror_mode": {
    "name": "ipython",
    "version": 2
   },
   "file_extension": ".py",
   "mimetype": "text/x-python",
   "name": "python",
   "nbconvert_exporter": "python",
   "pygments_lexer": "ipython2",
   "version": "2.7.6"
  }
 },
 "nbformat": 4,
 "nbformat_minor": 0
}

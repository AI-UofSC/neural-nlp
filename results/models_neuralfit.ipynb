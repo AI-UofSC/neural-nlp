{
 "cells": [
  {
   "cell_type": "code",
   "execution_count": 2,
   "metadata": {
    "collapsed": false
   },
   "outputs": [
    {
     "name": "stderr",
     "output_type": "stream",
     "text": [
      "Using TensorFlow backend.\n"
     ]
    }
   ],
   "source": [
    "% matplotlib inline\n",
    "\n",
    "import logging\n",
    "import os\n",
    "import sys\n",
    "\n",
    "from neural_metrics import run, models\n",
    "from neural_metrics.metrics import physiology\n",
    "\n",
    "logging.basicConfig(stream=sys.stdout, level=logging.getLevelName(\"INFO\"))\n",
    "\n",
    "\n",
    "def run_physiology(model, model_weights=models._Defaults.model_weights,\n",
    "                   regions=['V4', 'IT'], variance=physiology._Defaults.variance):\n",
    "    activations_filepath = models.get_savepath(model, model_weights=model_weights)\n",
    "    assert os.path.isfile(activations_filepath)\n",
    "    physiology.run(activations_filepath, regions, variance=variance)\n"
   ]
  },
  {
   "cell_type": "markdown",
   "metadata": {},
   "source": [
    "## Scores"
   ]
  },
  {
   "cell_type": "markdown",
   "metadata": {},
   "source": [
    "### VGG16"
   ]
  },
  {
   "cell_type": "code",
   "execution_count": 2,
   "metadata": {
    "collapsed": true
   },
   "outputs": [
    {
     "name": "stdout",
     "output_type": "stream",
     "text": [
      "INFO:neural_metrics:Computing activations\n"
     ]
    },
    {
     "name": "stdout",
     "output_type": "stream",
     "text": [
      "INFO:neural_metrics.models:Using cached activations: /mnt/c/Users/Martin/workspaces/dicarlo/neural-correlations/neural_metrics/../images/sorted/vgg16-weights_imagenet-activations.pkl\n"
     ]
    },
    {
     "name": "stdout",
     "output_type": "stream",
     "text": [
      "INFO:neural_metrics:Computing scores\n"
     ]
    },
    {
     "name": "stdout",
     "output_type": "stream",
     "text": [
      "WARNING:neural_metrics.metrics.physiology:3200 images not found in neural recordings: Chairs/_014/V0/cfd1b58c0fd2a1c5e0edc32d0ac826e16494ff8a.png, Chairs/_014/V0/0ef8a8cf92e29d5a5dc4958371436da852486ef3.png, Chairs/_014/V0/032cad2e7b5b77df35e563c027a6c6c709cf5e2f.png, Chairs/_014/V0/92231c766385b306babcca57f1fe1c9ec6eec681.png, Chairs/_014/V0/b363da6dc06f83d682f04ee0592211cd1c41a082....\n"
     ]
    },
    {
     "name": "stdout",
     "output_type": "stream",
     "text": [
      "WARNING:neural_metrics.metrics:Negative improvement from candidate in region V4 (was block2_pool,block3_pool: 0.5829, now block1_pool,block2_pool,block3_pool: 0.5774)\n"
     ]
    },
    {
     "name": "stdout",
     "output_type": "stream",
     "text": [
      "WARNING:neural_metrics.metrics:Negative improvement from candidate in region IT (was block4_pool: 0.5720, now block4_pool,block5_pool: 0.5675)\n"
     ]
    },
    {
     "name": "stdout",
     "output_type": "stream",
     "text": [
      "WARNING:neural_metrics.metrics:Negative improvement from candidate in region IT (was block4_pool,block5_pool,fc1: 0.5688, now block4_pool,block5_pool,fc1,fc2: 0.5642)\n"
     ]
    },
    {
     "name": "stdout",
     "output_type": "stream",
     "text": [
      "INFO:neural_metrics.metrics:Physiology mapping: V4 -> block1_pool,block2_pool,block3_pool (0.58), IT -> block4_pool,block5_pool,fc1,fc2 (0.56)\n"
     ]
    },
    {
     "name": "stdout",
     "output_type": "stream",
     "text": [
      "INFO:neural_metrics.metrics:Anatomy score: 0.5\n"
     ]
    },
    {
     "name": "stdout",
     "output_type": "stream",
     "text": [
      "INFO:neural_metrics:Plotting\n"
     ]
    },
    {
     "data": {
      "image/png": "[encoded data removed]",
      "text/plain": [
       "<matplotlib.figure.Figure at 0x7f22cb5d79e8>"
      ]
     },
     "metadata": {},
     "output_type": "display_data"
    }
   ],
   "source": [
    "run(model='vgg16', layers=['block1_pool', 'block2_pool', 'block3_pool', 'block4_pool', 'block5_pool', \n",
    "                           'fc1', 'fc2'])"
   ]
  },
  {
   "cell_type": "code",
   "execution_count": 4,
   "metadata": {
    "collapsed": true
   },
   "outputs": [
    {
     "data": {
      "image/png": "[encoded data removed]",
      "text/plain": [
       "<matplotlib.figure.Figure at 0x7fb2c96602b0>"
      ]
     },
     "metadata": {},
     "output_type": "display_data"
    }
   ],
   "source": [
    "run(model='vgg16', layers=['block1_pool', 'block2_pool', 'block3_pool', 'block4_pool', 'block5_pool', \n",
    "                           'fc1', 'fc2'],\n",
    "    model_weights=None)"
   ]
  },
  {
   "cell_type": "markdown",
   "metadata": {},
   "source": [
    "### Squeezenet"
   ]
  },
  {
   "cell_type": "code",
   "execution_count": 3,
   "metadata": {
    "collapsed": false
   },
   "outputs": [
    {
     "name": "stdout",
     "output_type": "stream",
     "text": [
      "INFO:neural_metrics:Computing activations\n"
     ]
    },
    {
     "name": "stdout",
     "output_type": "stream",
     "text": [
      "INFO:neural_metrics.models:Using cached activations: /mnt/c/Users/Martin/workspaces/dicarlo/neural-correlations/neural_metrics/../images/sorted/squeezenet-weights_imagenet-activations.pkl\n"
     ]
    },
    {
     "name": "stdout",
     "output_type": "stream",
     "text": [
      "INFO:neural_metrics:Computing scores\n"
     ]
    },
    {
     "name": "stdout",
     "output_type": "stream",
     "text": [
      "WARNING:neural_metrics.metrics.physiology:3200 images not found in neural recordings: Chairs/_014/V0/cfd1b58c0fd2a1c5e0edc32d0ac826e16494ff8a.png, Chairs/_014/V0/0ef8a8cf92e29d5a5dc4958371436da852486ef3.png, Chairs/_014/V0/032cad2e7b5b77df35e563c027a6c6c709cf5e2f.png, Chairs/_014/V0/92231c766385b306babcca57f1fe1c9ec6eec681.png, Chairs/_014/V0/b363da6dc06f83d682f04ee0592211cd1c41a082....\n"
     ]
    },
    {
     "name": "stderr",
     "output_type": "stream",
     "text": [
      "/home/martin/miniconda3/envs/neural-metrics/lib/python3.6/site-packages/sklearn/cross_decomposition/pls_.py:77: UserWarning: Maximum number of iterations reached\n  warnings.warn('Maximum number of iterations reached')\n"
     ]
    },
    {
     "name": "stdout",
     "output_type": "stream",
     "text": [
      "WARNING:neural_metrics.metrics:Negative improvement from candidate in region IT (was fire9/concat,fire8/concat: 0.5863, now relu_conv10,fire9/concat,fire8/concat: 0.5801)\n"
     ]
    },
    {
     "name": "stdout",
     "output_type": "stream",
     "text": [
      "WARNING:neural_metrics.metrics:Negative improvement from candidate in region IT (was relu_conv10,fire9/concat,fire8/concat,fire7/concat: 0.5815, now relu_conv10,fire9/concat,fire8/concat,fire7/concat,fire6/concat: 0.5804)\n"
     ]
    },
    {
     "name": "stdout",
     "output_type": "stream",
     "text": [
      "WARNING:neural_metrics.metrics:Negative improvement from candidate in region V4 (was fire5/concat,fire4/concat: 0.5847, now fire5/concat,fire4/concat,fire3/concat: 0.5798)\n"
     ]
    },
    {
     "name": "stdout",
     "output_type": "stream",
     "text": [
      "INFO:neural_metrics.metrics:Physiology mapping: V4 -> fire5/concat,fire4/concat,fire3/concat,fire2/concat,pool1 (0.58), IT -> relu_conv10,fire9/concat,fire8/concat,fire7/concat,fire6/concat (0.58)\n"
     ]
    },
    {
     "ename": "NotImplementedError",
     "evalue": "",
     "traceback": [
      "\u001b[0;31m---------------------------------------------------------------------------\u001b[0m",
      "\u001b[0;31mNotImplementedError\u001b[0m                       Traceback (most recent call last)",
      "\u001b[0;32m<ipython-input-3-13b2194db10f>\u001b[0m in \u001b[0;36m<module>\u001b[0;34m()\u001b[0m\n\u001b[1;32m      1\u001b[0m run(model='squeezenet', layers=['pool1', 'fire2/concat', 'fire3/concat', 'fire4/concat', \n\u001b[1;32m      2\u001b[0m                                 \u001b[0;34m'fire5/concat'\u001b[0m\u001b[0;34m,\u001b[0m \u001b[0;34m'fire6/concat'\u001b[0m\u001b[0;34m,\u001b[0m \u001b[0;34m'fire7/concat'\u001b[0m\u001b[0;34m,\u001b[0m \u001b[0;34m'fire8/concat'\u001b[0m\u001b[0;34m,\u001b[0m\u001b[0;34m\u001b[0m\u001b[0m\n\u001b[0;32m----> 3\u001b[0;31m                                 'fire9/concat', 'relu_conv10'])\n\u001b[0m",
      "\u001b[0;32m/mnt/c/Users/Martin/workspaces/dicarlo/neural-correlations/neural_metrics/__init__.py\u001b[0m in \u001b[0;36mrun\u001b[0;34m(model, layers, regions, model_weights, save_plot)\u001b[0m\n\u001b[1;32m     21\u001b[0m                                                  layers=layers, use_cached=True)\n\u001b[1;32m     22\u001b[0m     \u001b[0mlogger\u001b[0m\u001b[0;34m.\u001b[0m\u001b[0minfo\u001b[0m\u001b[0;34m(\u001b[0m\u001b[0;34m'Computing scores'\u001b[0m\u001b[0;34m)\u001b[0m\u001b[0;34m\u001b[0m\u001b[0m\n\u001b[0;32m---> 23\u001b[0;31m     \u001b[0mscores\u001b[0m \u001b[0;34m=\u001b[0m \u001b[0mscore_model_activations\u001b[0m\u001b[0;34m(\u001b[0m\u001b[0mactivations_savepath\u001b[0m\u001b[0;34m,\u001b[0m \u001b[0mregions\u001b[0m\u001b[0;34m,\u001b[0m \u001b[0muse_cached\u001b[0m\u001b[0;34m=\u001b[0m\u001b[0;32mTrue\u001b[0m\u001b[0;34m)\u001b[0m\u001b[0;34m\u001b[0m\u001b[0m\n\u001b[0m\u001b[1;32m     24\u001b[0m     \u001b[0mlogger\u001b[0m\u001b[0;34m.\u001b[0m\u001b[0minfo\u001b[0m\u001b[0;34m(\u001b[0m\u001b[0;34m'Plotting'\u001b[0m\u001b[0;34m)\u001b[0m\u001b[0;34m\u001b[0m\u001b[0m\n\u001b[1;32m     25\u001b[0m     \u001b[0mfile_name\u001b[0m \u001b[0;34m=\u001b[0m \u001b[0mos\u001b[0m\u001b[0;34m.\u001b[0m\u001b[0mpath\u001b[0m\u001b[0;34m.\u001b[0m\u001b[0msplitext\u001b[0m\u001b[0;34m(\u001b[0m\u001b[0mos\u001b[0m\u001b[0;34m.\u001b[0m\u001b[0mpath\u001b[0m\u001b[0;34m.\u001b[0m\u001b[0mbasename\u001b[0m\u001b[0;34m(\u001b[0m\u001b[0mactivations_savepath\u001b[0m\u001b[0;34m)\u001b[0m\u001b[0;34m)\u001b[0m\u001b[0;34m[\u001b[0m\u001b[0;36m0\u001b[0m\u001b[0;34m]\u001b[0m\u001b[0;34m\u001b[0m\u001b[0m\n",
      "\u001b[0;32m/mnt/c/Users/Martin/workspaces/dicarlo/neural-correlations/neural_metrics/metrics/__init__.py\u001b[0m in \u001b[0;36mscore_model_activations\u001b[0;34m(activations_filepath, regions, model_name, map_all_layers, use_cached)\u001b[0m\n\u001b[1;32m    103\u001b[0m         for region, (layers, score) in region_layer_mapping.items()))\n\u001b[1;32m    104\u001b[0m \u001b[0;34m\u001b[0m\u001b[0m\n\u001b[0;32m--> 105\u001b[0;31m     \u001b[0manatomy_score\u001b[0m \u001b[0;34m=\u001b[0m \u001b[0mscore_anatomy\u001b[0m\u001b[0;34m(\u001b[0m\u001b[0mmodel\u001b[0m\u001b[0;34m,\u001b[0m \u001b[0mregion_layer_mapping\u001b[0m\u001b[0;34m)\u001b[0m\u001b[0;34m\u001b[0m\u001b[0m\n\u001b[0m\u001b[1;32m    106\u001b[0m     \u001b[0mlogger\u001b[0m\u001b[0;34m.\u001b[0m\u001b[0minfo\u001b[0m\u001b[0;34m(\u001b[0m\u001b[0;34m\"Anatomy score: {}\"\u001b[0m\u001b[0;34m.\u001b[0m\u001b[0mformat\u001b[0m\u001b[0;34m(\u001b[0m\u001b[0manatomy_score\u001b[0m\u001b[0;34m)\u001b[0m\u001b[0;34m)\u001b[0m\u001b[0;34m\u001b[0m\u001b[0m\n\u001b[1;32m    107\u001b[0m \u001b[0;34m\u001b[0m\u001b[0m\n",
      "\u001b[0;32m/mnt/c/Users/Martin/workspaces/dicarlo/neural-correlations/neural_metrics/metrics/__init__.py\u001b[0m in \u001b[0;36mscore_anatomy\u001b[0;34m(model, region_layer_score_mapping)\u001b[0m\n\u001b[1;32m     75\u001b[0m \u001b[0;34m\u001b[0m\u001b[0m\n\u001b[1;32m     76\u001b[0m \u001b[0;32mdef\u001b[0m \u001b[0mscore_anatomy\u001b[0m\u001b[0;34m(\u001b[0m\u001b[0mmodel\u001b[0m\u001b[0;34m,\u001b[0m \u001b[0mregion_layer_score_mapping\u001b[0m\u001b[0;34m)\u001b[0m\u001b[0;34m:\u001b[0m\u001b[0;34m\u001b[0m\u001b[0m\n\u001b[0;32m---> 77\u001b[0;31m     \u001b[0m_model_graph\u001b[0m \u001b[0;34m=\u001b[0m \u001b[0mmodel_graph\u001b[0m\u001b[0;34m(\u001b[0m\u001b[0mmodel\u001b[0m\u001b[0;34m,\u001b[0m \u001b[0mlayers\u001b[0m\u001b[0;34m=\u001b[0m\u001b[0mget_mapped_layers\u001b[0m\u001b[0;34m(\u001b[0m\u001b[0mregion_layer_score_mapping\u001b[0m\u001b[0;34m)\u001b[0m\u001b[0;34m)\u001b[0m\u001b[0;34m\u001b[0m\u001b[0m\n\u001b[0m\u001b[1;32m     78\u001b[0m     _model_graph = combine_graph(_model_graph, OrderedDict((region, layers) for region, (layers, score)\n\u001b[1;32m     79\u001b[0m                                                            in region_layer_score_mapping.items()))\n",
      "\u001b[0;32m/mnt/c/Users/Martin/workspaces/dicarlo/neural-correlations/neural_metrics/metrics/anatomy/__init__.py\u001b[0m in \u001b[0;36mmodel_graph\u001b[0;34m(model, layers)\u001b[0m\n\u001b[1;32m     23\u001b[0m \u001b[0;32mdef\u001b[0m \u001b[0mmodel_graph\u001b[0m\u001b[0;34m(\u001b[0m\u001b[0mmodel\u001b[0m\u001b[0;34m,\u001b[0m \u001b[0mlayers\u001b[0m\u001b[0;34m)\u001b[0m\u001b[0;34m:\u001b[0m\u001b[0;34m\u001b[0m\u001b[0m\n\u001b[1;32m     24\u001b[0m     \u001b[0mgraph\u001b[0m \u001b[0;34m=\u001b[0m \u001b[0mget_model_graph_keras\u001b[0m\u001b[0;34m(\u001b[0m\u001b[0mmodel\u001b[0m\u001b[0;34m)\u001b[0m\u001b[0;34m\u001b[0m\u001b[0m\n\u001b[0;32m---> 25\u001b[0;31m     \u001b[0;32mreturn\u001b[0m \u001b[0mcut_graph\u001b[0m\u001b[0;34m(\u001b[0m\u001b[0mgraph\u001b[0m\u001b[0;34m,\u001b[0m \u001b[0mkeep_nodes\u001b[0m\u001b[0;34m=\u001b[0m\u001b[0mlayers\u001b[0m\u001b[0;34m,\u001b[0m \u001b[0mfill_in\u001b[0m\u001b[0;34m=\u001b[0m\u001b[0;32mTrue\u001b[0m\u001b[0;34m)\u001b[0m\u001b[0;34m\u001b[0m\u001b[0m\n\u001b[0m",
      "\u001b[0;32m/mnt/c/Users/Martin/workspaces/dicarlo/neural-correlations/neural_metrics/metrics/anatomy/graphs.py\u001b[0m in \u001b[0;36mcut_graph\u001b[0;34m(graph, keep_nodes, fill_in)\u001b[0m\n\u001b[1;32m     33\u001b[0m                 \u001b[0;32mraise\u001b[0m \u001b[0mNotImplementedError\u001b[0m\u001b[0;34m(\u001b[0m\u001b[0;34m)\u001b[0m\u001b[0;34m\u001b[0m\u001b[0m\n\u001b[1;32m     34\u001b[0m             \u001b[0;32mif\u001b[0m \u001b[0mlen\u001b[0m\u001b[0;34m(\u001b[0m\u001b[0mout_edges\u001b[0m\u001b[0;34m)\u001b[0m \u001b[0;34m>\u001b[0m \u001b[0;36m1\u001b[0m\u001b[0;34m:\u001b[0m\u001b[0;34m\u001b[0m\u001b[0m\n\u001b[0;32m---> 35\u001b[0;31m                 \u001b[0;32mraise\u001b[0m \u001b[0mNotImplementedError\u001b[0m\u001b[0;34m(\u001b[0m\u001b[0;34m)\u001b[0m\u001b[0;34m\u001b[0m\u001b[0m\n\u001b[0m\u001b[1;32m     36\u001b[0m             \u001b[0;32mif\u001b[0m \u001b[0mlen\u001b[0m\u001b[0;34m(\u001b[0m\u001b[0min_edges\u001b[0m\u001b[0;34m)\u001b[0m \u001b[0;34m>\u001b[0m \u001b[0;36m0\u001b[0m \u001b[0;32mand\u001b[0m \u001b[0mlen\u001b[0m\u001b[0;34m(\u001b[0m\u001b[0mout_edges\u001b[0m\u001b[0;34m)\u001b[0m \u001b[0;34m>\u001b[0m \u001b[0;36m0\u001b[0m\u001b[0;34m:\u001b[0m\u001b[0;34m\u001b[0m\u001b[0m\n\u001b[1;32m     37\u001b[0m                 \u001b[0m_cut_graph\u001b[0m\u001b[0;34m.\u001b[0m\u001b[0madd_edge\u001b[0m\u001b[0;34m(\u001b[0m\u001b[0mnext\u001b[0m\u001b[0;34m(\u001b[0m\u001b[0miter\u001b[0m\u001b[0;34m(\u001b[0m\u001b[0min_edges\u001b[0m\u001b[0;34m)\u001b[0m\u001b[0;34m)\u001b[0m\u001b[0;34m[\u001b[0m\u001b[0;36m0\u001b[0m\u001b[0;34m]\u001b[0m\u001b[0;34m,\u001b[0m \u001b[0mnext\u001b[0m\u001b[0;34m(\u001b[0m\u001b[0miter\u001b[0m\u001b[0;34m(\u001b[0m\u001b[0mout_edges\u001b[0m\u001b[0;34m)\u001b[0m\u001b[0;34m)\u001b[0m\u001b[0;34m[\u001b[0m\u001b[0;36m1\u001b[0m\u001b[0;34m]\u001b[0m\u001b[0;34m)\u001b[0m\u001b[0;34m\u001b[0m\u001b[0m\n",
      "\u001b[0;31mNotImplementedError\u001b[0m: "
     ],
     "output_type": "error"
    }
   ],
   "source": [
    "run(model='squeezenet', layers=['pool1', 'fire2/concat', 'fire3/concat', 'fire4/concat', \n",
    "                                'fire5/concat', 'fire6/concat', 'fire7/concat', 'fire8/concat', \n",
    "                                'fire9/concat', 'relu_conv10'])"
   ]
  },
  {
   "cell_type": "markdown",
   "metadata": {},
   "source": [
    "### DenseNet"
   ]
  },
  {
   "cell_type": "code",
   "execution_count": 3,
   "metadata": {
    "collapsed": false
   },
   "outputs": [
    {
     "name": "stdout",
     "output_type": "stream",
     "text": [
      "INFO:neural_metrics:Computing activations\n"
     ]
    },
    {
     "name": "stdout",
     "output_type": "stream",
     "text": [
      "Weights for the model were loaded successfully\n"
     ]
    },
    {
     "name": "stdout",
     "output_type": "stream",
     "text": [
      "INFO:neural_metrics.models:Computing layer outputs\n"
     ]
    }
   ],
   "source": [
    "run(model='densenet', layers=['activation_1', 'activation_4', 'activation_7', 'activation_10', 'activation_13', \n",
    "                              'activation_16', 'activation_19', 'activation_22', 'activation_25', 'activation_28', \n",
    "                              'activation_31', 'activation_34', 'activation_37', 'activation_40', 'activation_43', \n",
    "                              'activation_46', 'activation_49', 'activation_52', 'activation_55', 'activation_58', \n",
    "                              'activation_61', 'activation_64', 'activation_67', 'activation_70', 'activation_73', \n",
    "                              'activation_76', 'activation_79', 'activation_82', 'activation_85', 'activation_88', \n",
    "                              'activation_91', 'activation_94', 'activation_97', 'activation_100', 'activation_103', \n",
    "                              'activation_106', 'activation_109', 'activation_112', 'activation_115', 'activation_118', \n",
    "                              'activation_121'])"
   ]
  },
  {
   "cell_type": "markdown",
   "metadata": {},
   "source": [
    "### MobileNet"
   ]
  },
  {
   "cell_type": "code",
   "execution_count": null,
   "metadata": {
    "collapsed": true
   },
   "outputs": [
    {
     "name": "stdout",
     "output_type": "stream",
     "text": [
      "INFO:neural_metrics.compare:Using cached activations: /mnt/c/Users/Martin/workspaces/dicarlo/neural-correlations/neural_metrics/../images/sorted/mobilenet-activations-correlations-region_V4-variance_V6.pkl\n",
      "INFO:neural_metrics.compare:Using cached activations: /mnt/c/Users/Martin/workspaces/dicarlo/neural-correlations/neural_metrics/../images/sorted/mobilenet-activations-correlations-region_IT-variance_V6.pkl\n",
      "INFO:neural_metrics:Bypassed activations computation by using existing metrics files\n",
      "INFO:neural_metrics:Plotting\n"
     ]
    },
    {
     "data": {
      "image/png": "[encoded data removed]",
      "text/plain": [
       "<matplotlib.figure.Figure at 0x7f71e2a78d30>"
      ]
     },
     "metadata": {},
     "output_type": "display_data"
    }
   ],
   "source": [
    "run(model='mobilenet', layers=['conv1_relu', 'conv_dw_1_relu', 'conv_pw_1_relu', \n",
    "                               'conv_dw_2_relu', 'conv_pw_2_relu', \n",
    "                               'conv_dw_3_relu', 'conv_pw_3_relu', \n",
    "                               'conv_dw_4_relu', 'conv_pw_4_relu', \n",
    "                               'conv_dw_5_relu', 'conv_pw_5_relu', \n",
    "                               'conv_dw_6_relu', 'conv_pw_6_relu', \n",
    "                               'conv_dw_7_relu', 'conv_pw_7_relu', \n",
    "                               'conv_dw_8_relu', 'conv_pw_8_relu', \n",
    "                               'conv_dw_9_relu', 'conv_pw_9_relu', \n",
    "                               'conv_dw_10_relu', 'conv_pw_10_relu', \n",
    "                               'conv_dw_11_relu', 'conv_pw_11_relu', \n",
    "                               'conv_dw_12_relu', 'conv_pw_12_relu', \n",
    "                               'conv_dw_13_relu', 'conv_pw_13_relu', \n",
    "                               'global_average_pooling2d_1', 'act_softmax'])"
   ]
  },
  {
   "cell_type": "markdown",
   "metadata": {},
   "source": [
    "## Physiology"
   ]
  },
  {
   "cell_type": "markdown",
   "metadata": {},
   "source": [
    "### VGG16"
   ]
  },
  {
   "cell_type": "code",
   "execution_count": 2,
   "metadata": {
    "collapsed": true
   },
   "outputs": [
    {
     "name": "stdout",
     "output_type": "stream",
     "text": [
      "/mnt/c/Users/Martin/workspaces/dicarlo/neural-correlations/neural_metrics/../images/sorted/vgg16-weights_imagenet-activations.pkl\nINFO:neural_metrics.metrics.physiology:Processing /mnt/c/Users/Martin/workspaces/dicarlo/neural-correlations/neural_metrics/../images/sorted/vgg16-weights_imagenet-activations.pkl\n"
     ]
    },
    {
     "name": "stdout",
     "output_type": "stream",
     "text": [
      "WARNING:neural_metrics.metrics.physiology:3200 images not found in neural recordings: Chairs/_014/V0/cfd1b58c0fd2a1c5e0edc32d0ac826e16494ff8a.png, Chairs/_014/V0/0ef8a8cf92e29d5a5dc4958371436da852486ef3.png, Chairs/_014/V0/032cad2e7b5b77df35e563c027a6c6c709cf5e2f.png, Chairs/_014/V0/92231c766385b306babcca57f1fe1c9ec6eec681.png, Chairs/_014/V0/b363da6dc06f83d682f04ee0592211cd1c41a082....\n"
     ]
    },
    {
     "name": "stdout",
     "output_type": "stream",
     "text": [
      "INFO:neural_metrics.metrics.physiology:('block1_pool',) -> 0.5250831018494507+-0.01044920273612849\n"
     ]
    },
    {
     "name": "stdout",
     "output_type": "stream",
     "text": [
      "INFO:neural_metrics.metrics.physiology:('block2_pool',) -> 0.5538125800301814+-0.010244485538892536\n"
     ]
    },
    {
     "name": "stdout",
     "output_type": "stream",
     "text": [
      "INFO:neural_metrics.metrics.physiology:('block3_pool',) -> 0.5732031524965487+-0.00880023768874995\n"
     ]
    },
    {
     "name": "stdout",
     "output_type": "stream",
     "text": [
      "INFO:neural_metrics.metrics.physiology:('block4_pool',) -> 0.5592143798611822+-0.013480391488631654\n"
     ]
    },
    {
     "name": "stdout",
     "output_type": "stream",
     "text": [
      "INFO:neural_metrics.metrics.physiology:('block5_pool',) -> 0.43494813893600465+-0.015468423816196376\n"
     ]
    },
    {
     "name": "stdout",
     "output_type": "stream",
     "text": [
      "INFO:neural_metrics.metrics.physiology:('fc1',) -> 0.3955561911487508+-0.006522851882094398\n"
     ]
    },
    {
     "name": "stdout",
     "output_type": "stream",
     "text": [
      "INFO:neural_metrics.metrics.physiology:('fc2',) -> 0.3284404460900657+-0.009387210634720545\n"
     ]
    },
    {
     "name": "stdout",
     "output_type": "stream",
     "text": [
      "Saving to /mnt/c/Users/Martin/workspaces/dicarlo/neural-correlations/neural_metrics/../images/sorted/vgg16-weights_imagenet-activations-correlations-region_V4-variance_V6.pkl\n"
     ]
    },
    {
     "name": "stdout",
     "output_type": "stream",
     "text": [
      "WARNING:neural_metrics.metrics.physiology:3200 images not found in neural recordings: Chairs/_014/V0/cfd1b58c0fd2a1c5e0edc32d0ac826e16494ff8a.png, Chairs/_014/V0/0ef8a8cf92e29d5a5dc4958371436da852486ef3.png, Chairs/_014/V0/032cad2e7b5b77df35e563c027a6c6c709cf5e2f.png, Chairs/_014/V0/92231c766385b306babcca57f1fe1c9ec6eec681.png, Chairs/_014/V0/b363da6dc06f83d682f04ee0592211cd1c41a082....\n"
     ]
    },
    {
     "name": "stdout",
     "output_type": "stream",
     "text": [
      "INFO:neural_metrics.metrics.physiology:('block1_pool',) -> 0.3210381475215792+-0.010134070358387738\n"
     ]
    },
    {
     "name": "stdout",
     "output_type": "stream",
     "text": [
      "INFO:neural_metrics.metrics.physiology:('block2_pool',) -> 0.40714848395468095+-0.008483824439827148\n"
     ]
    },
    {
     "name": "stdout",
     "output_type": "stream",
     "text": [
      "INFO:neural_metrics.metrics.physiology:('block3_pool',) -> 0.4985373990531802+-0.012928432804464813\n"
     ]
    },
    {
     "name": "stdout",
     "output_type": "stream",
     "text": [
      "INFO:neural_metrics.metrics.physiology:('block4_pool',) -> 0.562838701162722+-0.005643381576119034\n"
     ]
    },
    {
     "name": "stdout",
     "output_type": "stream",
     "text": [
      "INFO:neural_metrics.metrics.physiology:('block5_pool',) -> 0.5685991635580622+-0.008473576791553718\n"
     ]
    },
    {
     "name": "stdout",
     "output_type": "stream",
     "text": [
      "INFO:neural_metrics.metrics.physiology:('fc1',) -> 0.5491975250999831+-0.009652873617712878\n"
     ]
    },
    {
     "name": "stdout",
     "output_type": "stream",
     "text": [
      "INFO:neural_metrics.metrics.physiology:('fc2',) -> 0.482667002424649+-0.005050606244458911\n"
     ]
    },
    {
     "name": "stdout",
     "output_type": "stream",
     "text": [
      "Saving to /mnt/c/Users/Martin/workspaces/dicarlo/neural-correlations/neural_metrics/../images/sorted/vgg16-weights_imagenet-activations-correlations-region_IT-variance_V6.pkl\n"
     ]
    },
    {
     "name": "stdout",
     "output_type": "stream",
     "text": [
      "INFO:neural_metrics.metrics.physiology:Plot saved to /mnt/c/Users/Martin/workspaces/dicarlo/neural-correlations/results/vgg16-weights_imagenet-activations-physiology-regions_V4IT.svg\n"
     ]
    },
    {
     "data": {
      "image/png": "[encoded data removed]",
      "text/plain": [
       "<matplotlib.figure.Figure at 0x7f8c2cf432b0>"
      ]
     },
     "metadata": {},
     "output_type": "display_data"
    }
   ],
   "source": [
    "run_physiology(model='vgg16')"
   ]
  },
  {
   "cell_type": "code",
   "execution_count": null,
   "metadata": {},
   "outputs": [],
   "source": []
  }
 ],
 "metadata": {
  "kernelspec": {
   "display_name": "Python 3",
   "language": "python",
   "name": "python3"
  },
  "language_info": {
   "codemirror_mode": {
    "name": "ipython",
    "version": 3
   },
   "file_extension": ".py",
   "mimetype": "text/x-python",
   "name": "python",
   "nbconvert_exporter": "python",
   "pygments_lexer": "ipython3",
   "version": "3.6.4"
  }
 },
 "nbformat": 4,
 "nbformat_minor": 1
}
